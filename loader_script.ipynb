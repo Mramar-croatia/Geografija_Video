{
 "cells": [
  {
   "cell_type": "code",
   "execution_count": 22,
   "metadata": {},
   "outputs": [
    {
     "data": {
      "application/vnd.jupyter.widget-view+json": {
       "model_id": "fa25f20dff9c4bb6b085bb57a9a93e0a",
       "version_major": 2,
       "version_minor": 0
      },
      "text/plain": [
       "Textarea(value='', description='Enter numbers (separated by commas):')"
      ]
     },
     "metadata": {},
     "output_type": "display_data"
    },
    {
     "data": {
      "application/vnd.jupyter.widget-view+json": {
       "model_id": "34f42bc4e86446498beb8ed4728f9d25",
       "version_major": 2,
       "version_minor": 0
      },
      "text/plain": [
       "Button(description='Submit', style=ButtonStyle())"
      ]
     },
     "metadata": {},
     "output_type": "display_data"
    }
   ],
   "source": [
    "import ipywidgets as widgets\n",
    "\n",
    "# Create a Text widget for input\n",
    "text_input = widgets.Textarea(value='', description='Enter numbers (separated by commas):')\n",
    "\n",
    "# Create a button to trigger the input\n",
    "button = widgets.Button(description='Submit')\n",
    "\n",
    "# Create an empty list to store the numbers\n",
    "numbers = []\n",
    "\n",
    "# Define a function to handle button click event\n",
    "def handle_submit(button):\n",
    "    global numbers\n",
    "    numbers += [int(num) for num in text_input.value.split(',')]\n",
    "\n",
    "# Attach the function to the button click event\n",
    "button.on_click(handle_submit)\n",
    "\n",
    "# Display the widgets\n",
    "display(text_input, button)\n"
   ]
  },
  {
   "cell_type": "code",
   "execution_count": null,
   "metadata": {},
   "outputs": [],
   "source": [
    "print(numbers)"
   ]
  }
 ],
 "metadata": {
  "kernelspec": {
   "display_name": "statistika_env",
   "language": "python",
   "name": "python3"
  },
  "language_info": {
   "codemirror_mode": {
    "name": "ipython",
    "version": 3
   },
   "file_extension": ".py",
   "mimetype": "text/x-python",
   "name": "python",
   "nbconvert_exporter": "python",
   "pygments_lexer": "ipython3",
   "version": "3.12.1"
  }
 },
 "nbformat": 4,
 "nbformat_minor": 2
}
