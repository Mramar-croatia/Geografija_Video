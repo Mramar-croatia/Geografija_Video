{
 "cells": [
  {
   "cell_type": "code",
   "execution_count": null,
   "metadata": {},
   "outputs": [],
   "source": [
    "import ipywidgets as widgets"
   ]
  },
  {
   "cell_type": "code",
   "execution_count": 2,
   "metadata": {},
   "outputs": [
    {
     "data": {
      "application/vnd.jupyter.widget-view+json": {
       "model_id": "77a1c65907ba4c6cbe54873002432f8f",
       "version_major": 2,
       "version_minor": 0
      },
      "text/plain": [
       "Textarea(value='', description='Enter numbers (separated by commas):')"
      ]
     },
     "metadata": {},
     "output_type": "display_data"
    },
    {
     "data": {
      "application/vnd.jupyter.widget-view+json": {
       "model_id": "75c9fa12d2e24e4cb2f0df0d56c60df8",
       "version_major": 2,
       "version_minor": 0
      },
      "text/plain": [
       "Button(description='Submit', style=ButtonStyle())"
      ]
     },
     "metadata": {},
     "output_type": "display_data"
    }
   ],
   "source": [
    "# Create a Text widget for input\n",
    "text_input = widgets.Textarea(value='', description='Enter numbers (separated by commas):')\n",
    "\n",
    "# Create a button to trigger the input\n",
    "button = widgets.Button(description='Submit')\n",
    "\n",
    "# Create an empty list to store the numbers\n",
    "numbers = []\n",
    "\n",
    "# Define a function to handle button click event\n",
    "def handle_submit(button):\n",
    "    global numbers\n",
    "    numbers += [int(num) for num in text_input.value.split(',')]\n",
    "\n",
    "# Attach the function to the button click event\n",
    "button.on_click(handle_submit)\n",
    "\n",
    "# Display the widgets\n",
    "display(text_input, button)\n"
   ]
  },
  {
   "cell_type": "code",
   "execution_count": null,
   "metadata": {},
   "outputs": [],
   "source": [
    "print(numbers)"
   ]
  },
  {
   "cell_type": "code",
   "execution_count": null,
   "metadata": {},
   "outputs": [],
   "source": []
  }
 ],
 "metadata": {
  "kernelspec": {
   "display_name": "statistika_env",
   "language": "python",
   "name": "python3"
  },
  "language_info": {
   "codemirror_mode": {
    "name": "ipython",
    "version": 3
   },
   "file_extension": ".py",
   "mimetype": "text/x-python",
   "name": "python",
   "nbconvert_exporter": "python",
   "pygments_lexer": "ipython3",
   "version": "3.11.5"
  }
 },
 "nbformat": 4,
 "nbformat_minor": 2
}
