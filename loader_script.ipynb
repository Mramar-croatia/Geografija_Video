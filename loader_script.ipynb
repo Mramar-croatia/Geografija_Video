{
 "cells": [
  {
   "cell_type": "code",
   "execution_count": 3,
   "metadata": {},
   "outputs": [
    {
     "name": "stdout",
     "output_type": "stream",
     "text": [
      "          DATUM    SMJER  START   STOP ZET LINIJA TRAJANJE  \\\n",
      "0      6.2.2024  Šva-Trg   8:48   9:27    146 + 6     0:39   \n",
      "1      7.2.2024  Šva-Trg   8:31   9:10    146 + 6     0:39   \n",
      "2      8.2.2024  Šva-Trg   9:18   9:59    136 + 6     0:41   \n",
      "3      9.2.2024  Šva-Trg   9:20  10:06    136 + 6     0:46   \n",
      "4    12.2.2024.  Šva-Trg   8:40   9:13    136 + 6     0:33   \n",
      "..          ...      ...    ...    ...        ...      ...   \n",
      "113   5.3.2024.  Trg-Šva  19:14  20:12   12 + 115     0:58   \n",
      "114           -  Šva-Trg   7:12   8:05   115 + 12     0:53   \n",
      "115           -  Šva-Trg   6:39   7:25   115 + 12     0:46   \n",
      "116           -  Šva-Trg   7:15   8:02   115 + 12     0:47   \n",
      "117           -  Trg-Šva  23:41   0:32   12 + 115     0:51   \n",
      "\n",
      "                   OPASKA  \n",
      "0                     NaN  \n",
      "1                     NaN  \n",
      "2            kontrola u 6  \n",
      "3                     NaN  \n",
      "4                     NaN  \n",
      "..                    ...  \n",
      "113    izmišljeno vrijeme  \n",
      "114  Števanja, izmišljeno  \n",
      "115  Števanja, izmišljeno  \n",
      "116  Števanja, izmišljeno  \n",
      "117  Števanja, izmišljeno  \n",
      "\n",
      "[118 rows x 7 columns]\n"
     ]
    }
   ],
   "source": [
    "import pandas as pd\n",
    "\n",
    "# Replace 'your_file.csv' with the path to your CSV file\n",
    "df = pd.read_csv('Lobel ZET CSV.csv')\n",
    "\n",
    "# Now 'df' holds your DataFrame and you can work with it\n",
    "display(df)"
   ]
  }
 ],
 "metadata": {
  "kernelspec": {
   "display_name": "statistika_env",
   "language": "python",
   "name": "python3"
  },
  "language_info": {
   "codemirror_mode": {
    "name": "ipython",
    "version": 3
   },
   "file_extension": ".py",
   "mimetype": "text/x-python",
   "name": "python",
   "nbconvert_exporter": "python",
   "pygments_lexer": "ipython3",
   "version": "3.12.1"
  }
 },
 "nbformat": 4,
 "nbformat_minor": 2
}
